{
  "nbformat": 4,
  "nbformat_minor": 0,
  "metadata": {
    "colab": {
      "provenance": []
    },
    "kernelspec": {
      "name": "python3",
      "display_name": "Python 3"
    },
    "language_info": {
      "name": "python"
    }
  },
  "cells": [
    {
      "cell_type": "code",
      "source": [
        "/content/Project.csv"
      ],
      "metadata": {
        "id": "C2igAkyeIz6X"
      },
      "execution_count": null,
      "outputs": []
    },
    {
      "cell_type": "code",
      "source": [
        "import pandas as pd\n",
        "from sklearn.model_selection import train_test_split\n",
        "\n",
        "# Assuming the uploaded CSV file is named 'Project.csv' and it's in the '/content/' directory\n",
        "data = pd.read_csv('/content/Project.csv')\n",
        "\n",
        "# Separate features and target\n",
        "X = data.drop('class', axis=1)  # drop the target column to get the features\n",
        "y = data['class']  # get only the target column\n",
        "\n",
        "# Split the data into training and testing sets\n",
        "# Here, 20% of the data is used as the test set, and 80% is used as the training set.\n",
        "X_train, X_test, y_train, y_test = train_test_split(X, y, test_size=0.20, random_state=42)\n",
        "\n",
        "# Output the shapes of the resulting splits to confirm sizes\n",
        "print(\"Training feature set size:\", X_train.shape)\n",
        "print(\"Test feature set size:\", X_test.shape)\n",
        "print(\"Training target set size:\", y_train.shape)\n",
        "print(\"Test target set size:\", y_test.shape)\n"
      ],
      "metadata": {
        "colab": {
          "base_uri": "https://localhost:8080/"
        },
        "id": "ZG2ssQhVI0NJ",
        "outputId": "e68f5116-2748-4776-80e5-b033600e503a"
      },
      "execution_count": 4,
      "outputs": [
        {
          "output_type": "stream",
          "name": "stdout",
          "text": [
            "Training feature set size: (12028, 215)\n",
            "Test feature set size: (3008, 215)\n",
            "Training target set size: (12028,)\n",
            "Test target set size: (3008,)\n"
          ]
        },
        {
          "output_type": "stream",
          "name": "stderr",
          "text": [
            "<ipython-input-4-3555251328ca>:5: DtypeWarning: Columns (92) have mixed types. Specify dtype option on import or set low_memory=False.\n",
            "  data = pd.read_csv('/content/Project.csv')\n"
          ]
        }
      ]
    }
  ]
}